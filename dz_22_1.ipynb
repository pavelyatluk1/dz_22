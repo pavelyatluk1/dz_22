{
 "cells": [
  {
   "cell_type": "markdown",
   "id": "c235a244",
   "metadata": {},
   "source": [
    "Yatluk Pavlo\n",
    "dz_22_1 "
   ]
  },
  {
   "cell_type": "code",
   "execution_count": null,
   "id": "9ef9adf9",
   "metadata": {},
   "outputs": [],
   "source": [
    "Вирішіть задачу. За підсумками іспитів з 37 студентів відмінну оцінку з математики мали 15 студентів, \n",
    "з фізики - 16, з хімії - 19, з математики та фізики - 7, з математики та хімії - 9, з фізики та хімії - 6, \n",
    "з усіх трьох дисциплін - 4.\n",
    "Скільки студентів отримали хоча б по одній відмінній оцінці?"
   ]
  },
  {
   "cell_type": "code",
   "execution_count": 19,
   "id": "45102478",
   "metadata": {},
   "outputs": [
    {
     "name": "stdout",
     "output_type": "stream",
     "text": [
      "Кількість студентів що отримали хоча б по одній відмінній оцінці - 32\n"
     ]
    }
   ],
   "source": [
    "def good_mark():\n",
    "         \n",
    "     return   M + F + H - (M_F + M_H + F_H) + M_F_H   \n",
    "\n",
    "M = 15\n",
    "F = 16\n",
    "H = 19\n",
    "M_F = 7\n",
    "M_H = 9\n",
    "F_H = 6\n",
    "M_F_H = 4\n",
    "Tot = 37\n",
    "\n",
    "print(f\"Кількість студентів що отримали хоча б по одній відмінній оцінці - {good_mark()}\")   \n"
   ]
  },
  {
   "cell_type": "code",
   "execution_count": null,
   "id": "10ff9603",
   "metadata": {},
   "outputs": [],
   "source": []
  }
 ],
 "metadata": {
  "kernelspec": {
   "display_name": "Python 3 (ipykernel)",
   "language": "python",
   "name": "python3"
  },
  "language_info": {
   "codemirror_mode": {
    "name": "ipython",
    "version": 3
   },
   "file_extension": ".py",
   "mimetype": "text/x-python",
   "name": "python",
   "nbconvert_exporter": "python",
   "pygments_lexer": "ipython3",
   "version": "3.10.8"
  }
 },
 "nbformat": 4,
 "nbformat_minor": 5
}
