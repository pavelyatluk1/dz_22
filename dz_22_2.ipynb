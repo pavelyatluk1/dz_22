{
 "cells": [
  {
   "cell_type": "markdown",
   "id": "bad2ec91",
   "metadata": {},
   "source": [
    "Yatluk Pavlo\n",
    "dz_22_2\n"
   ]
  },
  {
   "cell_type": "markdown",
   "id": "37d7e0b8",
   "metadata": {},
   "source": [
    "Вирішіть задачу. Протягом 30 днів вересня було 12 дощових, 8 вітряних, 4 холодних, 5 дощових та вітряних, 3 дощових і холодних, 2 вітряних та холодних, а один день був дощовий, вітряний та холодний одночасно.\n",
    "Скільки днів була гарна погода?"
   ]
  },
  {
   "cell_type": "code",
   "execution_count": 2,
   "id": "b4c54349",
   "metadata": {},
   "outputs": [
    {
     "name": "stdout",
     "output_type": "stream",
     "text": [
      "Гарна погода була 15 днів\n"
     ]
    }
   ],
   "source": [
    "def good_days():\n",
    "    \n",
    "    return  Tot_days - (R + W + C - (R_W + R_C + W_C) + R_W_C)     \n",
    "    \n",
    "Tot_days = 30\n",
    "R = 12\n",
    "W = 8\n",
    "C = 4\n",
    "R_W = 5\n",
    "R_C = 3\n",
    "W_C = 2\n",
    "R_W_C = 1\n",
    "\n",
    "print(f\"Гарна погода була {good_days()} днів\")"
   ]
  },
  {
   "cell_type": "code",
   "execution_count": null,
   "id": "867375a4",
   "metadata": {},
   "outputs": [],
   "source": []
  }
 ],
 "metadata": {
  "kernelspec": {
   "display_name": "Python 3 (ipykernel)",
   "language": "python",
   "name": "python3"
  },
  "language_info": {
   "codemirror_mode": {
    "name": "ipython",
    "version": 3
   },
   "file_extension": ".py",
   "mimetype": "text/x-python",
   "name": "python",
   "nbconvert_exporter": "python",
   "pygments_lexer": "ipython3",
   "version": "3.10.8"
  }
 },
 "nbformat": 4,
 "nbformat_minor": 5
}
